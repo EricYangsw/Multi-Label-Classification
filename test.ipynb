{
 "cells": [
  {
   "cell_type": "code",
   "execution_count": 1,
   "metadata": {},
   "outputs": [],
   "source": [
    "import os\n",
    "import numpy as np\n",
    "import tensorflow as tf"
   ]
  },
  {
   "cell_type": "code",
   "execution_count": 60,
   "metadata": {},
   "outputs": [],
   "source": [
    "def f1(pp):     \n",
    "    return pp\n",
    "\n",
    "def f2(prop, pick): \n",
    "    prop = tf.subtract(prop, tf.one_hot(pick,depth=10, dtype=tf.float64))\n",
    "    pp = tf.argmax(prop, output_type=tf.int32)\n",
    "    return pp\n",
    "\n",
    "\n",
    "\n",
    "lable_pool = tf.constant([0 for _ in range(10)], dtype=tf.int32)\n",
    "pick = [tf.constant(10000, tf.int32)]\n",
    "g1 = []\n",
    "g2 = []\n",
    "g3 = []\n",
    "for _ in range(10):\n",
    "    prop = tf.constant(np.random.uniform(0., 1., 10))\n",
    "    pp = tf.argmax(prop, output_type=tf.int32)\n",
    "    \n",
    "    x = tf.stack(pick)\n",
    "    aa = tf.where(tf.equal(pp, x))\n",
    "    \n",
    "    \n",
    "    pp = tf.cond( tf.equal(tf.shape(aa)[0],0), \n",
    "                        lambda: f1(pp), \n",
    "                        lambda: f2(prop, pp))\n",
    "    pick.append(pp)\n",
    "    g1.append(tf.equal(tf.shape(aa)[0],0))\n",
    "    g2.append(tf.shape(aa)[0])\n",
    "    g3.append(aa)\n",
    "\n",
    "    \n",
    "    pred = tf.one_hot(pp, depth=10, dtype=tf.int32)\n",
    "    lable_pool = tf.add(lable_pool, pred)"
   ]
  },
  {
   "cell_type": "code",
   "execution_count": 61,
   "metadata": {},
   "outputs": [
    {
     "name": "stdout",
     "output_type": "stream",
     "text": [
      "[1 1 1 1 0 1 2 1 2 0]\n",
      "[10000, 6, 8, 3, 7, 1, 8, 5, 2, 0, 6]\n"
     ]
    }
   ],
   "source": [
    "with tf.Session() as sess:\n",
    "    tf.global_variables_initializer()\n",
    "    print(sess.run(lable_pool))\n",
    "    print(sess.run(pick))\n",
    "    #print(sess.run(g3))\n",
    "\n",
    "    "
   ]
  },
  {
   "cell_type": "code",
   "execution_count": null,
   "metadata": {},
   "outputs": [],
   "source": []
  },
  {
   "cell_type": "code",
   "execution_count": 175,
   "metadata": {},
   "outputs": [],
   "source": []
  },
  {
   "cell_type": "code",
   "execution_count": 176,
   "metadata": {},
   "outputs": [
    {
     "name": "stdout",
     "output_type": "stream",
     "text": [
      "tt\n"
     ]
    }
   ],
   "source": []
  },
  {
   "cell_type": "code",
   "execution_count": null,
   "metadata": {},
   "outputs": [],
   "source": []
  },
  {
   "cell_type": "code",
   "execution_count": null,
   "metadata": {},
   "outputs": [],
   "source": []
  }
 ],
 "metadata": {
  "kernelspec": {
   "display_name": "Python 3",
   "language": "python",
   "name": "python3"
  },
  "language_info": {
   "codemirror_mode": {
    "name": "ipython",
    "version": 3
   },
   "file_extension": ".py",
   "mimetype": "text/x-python",
   "name": "python",
   "nbconvert_exporter": "python",
   "pygments_lexer": "ipython3",
   "version": "3.6.4"
  }
 },
 "nbformat": 4,
 "nbformat_minor": 2
}
