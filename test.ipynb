{
 "cells": [
  {
   "cell_type": "code",
   "execution_count": 2,
   "metadata": {},
   "outputs": [
    {
     "name": "stderr",
     "output_type": "stream",
     "text": [
      "C:\\Users\\ericmlyang\\AppData\\Local\\Continuum\\anaconda3\\envs\\tf_cpu\\lib\\site-packages\\h5py\\__init__.py:36: FutureWarning: Conversion of the second argument of issubdtype from `float` to `np.floating` is deprecated. In future, it will be treated as `np.float64 == np.dtype(float).type`.\n",
      "  from ._conv import register_converters as _register_converters\n"
     ]
    }
   ],
   "source": [
    "import os\n",
    "import numpy as np\n",
    "import tensorflow as tf"
   ]
  },
  {
   "cell_type": "code",
   "execution_count": 9,
   "metadata": {},
   "outputs": [],
   "source": [
    "def tf_print(data):\n",
    "    with tf.Session() as sess:\n",
    "        print(sess.run(data))"
   ]
  },
  {
   "cell_type": "code",
   "execution_count": 21,
   "metadata": {},
   "outputs": [],
   "source": [
    "batch_size = 5\n",
    "data_length = 30"
   ]
  },
  {
   "cell_type": "code",
   "execution_count": 45,
   "metadata": {},
   "outputs": [
    {
     "name": "stdout",
     "output_type": "stream",
     "text": [
      "[[1. 1. 1. 1. 1. 1. 1. 1. 1. 1. 1. 1. 1. 1. 1. 1. 1. 1. 1. 1. 1. 1. 1. 1.\n",
      "  1. 1. 1. 1. 1. 1.]\n",
      " [1. 1. 1. 1. 1. 1. 1. 1. 1. 1. 1. 1. 1. 1. 1. 1. 1. 1. 1. 1. 1. 1. 1. 1.\n",
      "  1. 1. 1. 1. 1. 1.]\n",
      " [1. 1. 1. 1. 1. 1. 1. 1. 1. 1. 1. 1. 1. 1. 1. 1. 1. 1. 1. 1. 1. 1. 1. 1.\n",
      "  1. 1. 1. 1. 1. 1.]\n",
      " [1. 1. 1. 1. 1. 1. 1. 1. 1. 1. 1. 1. 1. 1. 1. 1. 1. 1. 1. 1. 1. 1. 1. 1.\n",
      "  1. 1. 1. 1. 1. 1.]\n",
      " [1. 1. 1. 1. 1. 1. 1. 1. 1. 1. 1. 1. 1. 1. 1. 1. 1. 1. 1. 1. 1. 1. 1. 1.\n",
      "  1. 1. 1. 1. 1. 1.]]\n"
     ]
    }
   ],
   "source": [
    "result_max_idx = []\n",
    "result_max_value = []\n",
    "hard_label = tf.zeros_like(prob, dtype=tf.float32)\n",
    "\n",
    "for i in range(data_length):\n",
    "    prob = tf.constant(np.random.uniform(low=0., high=1., size=(batch_size, data_length)), dtype=tf.float32)\n",
    "    prob_2 = tf.subtract(prob, hard_label)\n",
    "    \n",
    "    max_value = tf.reduce_max(prob_2, axis=1)\n",
    "    max_id = tf.argmax(prob_2, axis=1)    \n",
    "    hard_label = tf.add(hard_label, tf.cast(tf.equal(prob_2, tf.expand_dims(max_value, 1)), tf.float32))\n",
    "    \n",
    "    result_max_value.append(max_value)\n",
    "    result_max_idx.append(max_id)\n",
    "\n",
    "\n",
    "tf_print(hard_label)"
   ]
  },
  {
   "cell_type": "code",
   "execution_count": 46,
   "metadata": {},
   "outputs": [
    {
     "name": "stdout",
     "output_type": "stream",
     "text": [
      "[[0.951224   0.92422104 0.93335986 0.96333313 0.7914251  0.93657243\n",
      "  0.9395712  0.99875945 0.997052   0.97101986 0.9644194  0.9564377\n",
      "  0.9713122  0.9967795  0.9415152  0.9351336  0.96958196 0.8469669\n",
      "  0.95039743 0.9039069  0.71413547 0.8944626  0.9965386  0.742975\n",
      "  0.83428705 0.83883953 0.8202269  0.37060153 0.6291413  0.5798108 ]\n",
      " [0.9991025  0.95062697 0.9303034  0.9019329  0.89893365 0.76487076\n",
      "  0.9445147  0.9556118  0.9786045  0.9667374  0.97503084 0.96727073\n",
      "  0.92096144 0.8170381  0.98473424 0.9813889  0.98495287 0.9080307\n",
      "  0.90390736 0.8532506  0.6594179  0.89185447 0.9229868  0.647575\n",
      "  0.6252457  0.7556415  0.90366197 0.67018515 0.92883694 0.30645692]\n",
      " [0.96846473 0.93276674 0.99346256 0.98214746 0.98885167 0.9784144\n",
      "  0.9694612  0.91313183 0.98745054 0.99682075 0.8834828  0.95739704\n",
      "  0.90583056 0.9880339  0.9201528  0.7720085  0.93988353 0.90590507\n",
      "  0.886137   0.98402864 0.9498646  0.97392184 0.97587305 0.85567075\n",
      "  0.9247034  0.81625473 0.73784864 0.9631947  0.6461506  0.12865213]\n",
      " [0.98858815 0.9812576  0.987973   0.9130323  0.98624265 0.9056119\n",
      "  0.91406417 0.99261975 0.8728497  0.92843217 0.9718593  0.92611986\n",
      "  0.9601571  0.9499549  0.85871553 0.99749154 0.98154867 0.86129916\n",
      "  0.95242304 0.895613   0.7867314  0.93407094 0.88162047 0.93648946\n",
      "  0.8210581  0.9447523  0.9409194  0.7748207  0.05920564 0.7831625 ]\n",
      " [0.88908976 0.97845924 0.9951039  0.9815895  0.9758506  0.85673416\n",
      "  0.9852487  0.976652   0.9811442  0.991428   0.9318471  0.97278005\n",
      "  0.915051   0.9917974  0.9605029  0.9990077  0.93982494 0.88396573\n",
      "  0.79980576 0.8917101  0.89489096 0.6919159  0.97248155 0.97535837\n",
      "  0.8788124  0.8242207  0.90651196 0.9457318  0.7931386  0.10723236]]\n"
     ]
    }
   ],
   "source": [
    "tf_print(tf.stack(result_max_value, axis=1))"
   ]
  },
  {
   "cell_type": "code",
   "execution_count": 47,
   "metadata": {},
   "outputs": [
    {
     "name": "stdout",
     "output_type": "stream",
     "text": [
      "[[26  1 17 15  7 19  6  0 18  9  4  8 23 20 28 27 11  3 12 14  5 13 16 10\n",
      "  22 21  2 29 24 25]\n",
      " [ 8 16  5  1  6 12 27 14 28  2 18 26 19 20 22  7 13  0  3 15 17 11 29 21\n",
      "   4 10 23 25  9 24]\n",
      " [ 6  9 15 29  1  0 16 17 21 26  4 18 10 19  3 14  5  7 24 12 11 27  8  2\n",
      "  13 23 20 28 25 22]\n",
      " [10  8 18 21  7  4  0 24 17 19 29 28 13  6  3 11  5 23 16 22 14 15  1 27\n",
      "   2 25 26 12  9 20]\n",
      " [17 10  9 12 18 24  8  5  7 14  0 11 21  3 27 25  2 19 15  6 23 29 28 26\n",
      "  13 22 16 20  4  1]]\n"
     ]
    }
   ],
   "source": [
    "tf_print(tf.stack(result_max_idx, axis=1))"
   ]
  },
  {
   "cell_type": "markdown",
   "metadata": {},
   "source": [
    "# Old try"
   ]
  },
  {
   "cell_type": "code",
   "execution_count": 2,
   "metadata": {
    "scrolled": true
   },
   "outputs": [
    {
     "data": {
      "text/plain": [
       "'\\npick = []\\n\\nfor _ in range(20):\\n    prop = tf.constant(np.random.uniform(batch_size, data_length))\\n    gg = tf.argmax(prop, axis=1, output_type=tf.int32) #(batch_size)\\n    g1.append(gg)\\n\\n    \\n    if _ == 0:\\n        pick.append(gg)\\n    else:\\n        x = tf.stack(pick, axis=1)\\n        aa = tf.where(tf.equal(gg, x))    \\n        pp = tf.cond( tf.equal(tf.shape(aa)[0, :], 0), \\n                            true_fn=lambda: f1(gg), # True\\n                            false_fn=lambda: f2(prop, x)) # False\\n        pick.append(pp)\\n    \\n\\n    \\n    pred = tf.one_hot(pp, depth=data_length, dtype=tf.int32)\\n    label_pool = tf.add(lable_pool, pred)\\n'"
      ]
     },
     "execution_count": 2,
     "metadata": {},
     "output_type": "execute_result"
    }
   ],
   "source": [
    "def f1(pp):\n",
    "    return pp\n",
    "\n",
    "def f2(prop, x): \n",
    "    prop = tf.subtract(prop, tf.reduce_sum(tf.one_hot(x, depth=data_length, dtype=tf.float64), axis=0))#\n",
    "    pp = tf.argmax(prop, axis=0, output_type=tf.int64)\n",
    "    return pp\n",
    "\n",
    "batch_size = 2\n",
    "data_length = 20\n",
    "\n",
    "\n",
    "\n",
    "label_pool = tf.zeros((batch_size, data_length), dtype=tf.int32)  # (batch_size, data_length)\n",
    "\n",
    "g1 = []\n",
    "g2 = []\n",
    "for _ in range(3):\n",
    "    prop = tf.constant(np.random.uniform(low=0., high=1., size=(batch_size, data_length)))\n",
    "    gg = tf.argmax(prop, axis=1)\n",
    "    g1.append(gg)\n",
    "x = tf.stack(g1, axis=1)\n",
    "\n",
    "for i in range(3):\n",
    "    g2.append(gg)\n",
    "y = tf.stack(g2, axis=1)\n",
    "\n",
    "n1 = tf.constant(True,tf.bool)\n",
    "aa = tf.reduce_sum(tf.cast(tf.equal(y, x), dtype=tf.int32), axis=1)\n",
    "\n",
    "pp = []\n",
    "pred = []\n",
    "\n",
    "for i in range(batch_size):\n",
    "    hh = tf.cond( tf.equal(aa[i], 0), \n",
    "                    true_fn=lambda: f1(gg[i]), # True\n",
    "                    false_fn=lambda: f2(prop[i], x[i])) # False\n",
    "    \n",
    "    pred.append(tf.one_hot(hh, depth=data_length, dtype=tf.int32))\n",
    "    \n",
    "label_pool = tf.add(label_pool, tf.stack(pred, axis=0))\n",
    "    \n",
    "    \n",
    "\n",
    "\n",
    "    \n",
    "    \n",
    "\n",
    "\"\"\"\n",
    "pick = []\n",
    "\n",
    "for _ in range(20):\n",
    "    prop = tf.constant(np.random.uniform(batch_size, data_length))\n",
    "    gg = tf.argmax(prop, axis=1, output_type=tf.int32) #(batch_size)\n",
    "    g1.append(gg)\n",
    "\n",
    "    \n",
    "    if _ == 0:\n",
    "        pick.append(gg)\n",
    "    else:\n",
    "        x = tf.stack(pick, axis=1)\n",
    "        aa = tf.where(tf.equal(gg, x))    \n",
    "        pp = tf.cond( tf.equal(tf.shape(aa)[0, :], 0), \n",
    "                            true_fn=lambda: f1(gg), # True\n",
    "                            false_fn=lambda: f2(prop, x)) # False\n",
    "        pick.append(pp)\n",
    "    \n",
    "\n",
    "    \n",
    "    pred = tf.one_hot(pp, depth=data_length, dtype=tf.int32)\n",
    "    label_pool = tf.add(lable_pool, pred)\n",
    "\"\"\""
   ]
  },
  {
   "cell_type": "code",
   "execution_count": 3,
   "metadata": {},
   "outputs": [
    {
     "name": "stdout",
     "output_type": "stream",
     "text": [
      "[[0 0 0 0 0 0 0 0 0 0 0 0 0 0 0 0 0 0 1 0]\n",
      " [0 0 0 0 0 0 0 0 0 0 0 1 0 0 0 0 0 0 0 0]]\n"
     ]
    }
   ],
   "source": [
    "with tf.Session() as sess:\n",
    "    tf.global_variables_initializer()\n",
    "    print(sess.run(label_pool))\n",
    "    #print(sess.run(x), sess.run(tf.shape(x)))\n",
    "    #print(sess.run(y), sess.run(tf.shape(y)))\n",
    "    #print(sess.run(aa), sess.run(tf.shape(aa)[0]))\n",
    "    #print(sess.run(pp))\n"
   ]
  },
  {
   "cell_type": "code",
   "execution_count": null,
   "metadata": {},
   "outputs": [],
   "source": []
  },
  {
   "cell_type": "code",
   "execution_count": null,
   "metadata": {},
   "outputs": [],
   "source": []
  },
  {
   "cell_type": "code",
   "execution_count": null,
   "metadata": {},
   "outputs": [],
   "source": []
  },
  {
   "cell_type": "code",
   "execution_count": null,
   "metadata": {},
   "outputs": [],
   "source": []
  },
  {
   "cell_type": "code",
   "execution_count": null,
   "metadata": {},
   "outputs": [],
   "source": []
  },
  {
   "cell_type": "code",
   "execution_count": null,
   "metadata": {},
   "outputs": [],
   "source": []
  },
  {
   "cell_type": "code",
   "execution_count": null,
   "metadata": {},
   "outputs": [],
   "source": []
  },
  {
   "cell_type": "code",
   "execution_count": null,
   "metadata": {},
   "outputs": [],
   "source": []
  },
  {
   "cell_type": "code",
   "execution_count": null,
   "metadata": {},
   "outputs": [],
   "source": []
  },
  {
   "cell_type": "code",
   "execution_count": null,
   "metadata": {},
   "outputs": [],
   "source": []
  },
  {
   "cell_type": "code",
   "execution_count": null,
   "metadata": {},
   "outputs": [],
   "source": []
  },
  {
   "cell_type": "code",
   "execution_count": null,
   "metadata": {},
   "outputs": [],
   "source": []
  }
 ],
 "metadata": {
  "kernelspec": {
   "display_name": "Python 3",
   "language": "python",
   "name": "python3"
  },
  "language_info": {
   "codemirror_mode": {
    "name": "ipython",
    "version": 3
   },
   "file_extension": ".py",
   "mimetype": "text/x-python",
   "name": "python",
   "nbconvert_exporter": "python",
   "pygments_lexer": "ipython3",
   "version": "3.6.5"
  }
 },
 "nbformat": 4,
 "nbformat_minor": 2
}
