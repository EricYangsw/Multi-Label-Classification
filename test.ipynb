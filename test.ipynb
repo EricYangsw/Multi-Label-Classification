{
 "cells": [
  {
   "cell_type": "code",
   "execution_count": 1,
   "metadata": {},
   "outputs": [
    {
     "name": "stderr",
     "output_type": "stream",
     "text": [
      "C:\\Users\\ericmlyang\\AppData\\Local\\Continuum\\anaconda3\\envs\\tf_cpu\\lib\\site-packages\\h5py\\__init__.py:36: FutureWarning: Conversion of the second argument of issubdtype from `float` to `np.floating` is deprecated. In future, it will be treated as `np.float64 == np.dtype(float).type`.\n",
      "  from ._conv import register_converters as _register_converters\n"
     ]
    }
   ],
   "source": [
    "import os\n",
    "import numpy as np\n",
    "import tensorflow as tf"
   ]
  },
  {
   "cell_type": "code",
   "execution_count": 10,
   "metadata": {
    "scrolled": true
   },
   "outputs": [
    {
     "data": {
      "text/plain": [
       "'\\npick = []\\n\\nfor _ in range(20):\\n    prop = tf.constant(np.random.uniform(batch_size, data_length))\\n    gg = tf.argmax(prop, axis=1, output_type=tf.int32) #(batch_size)\\n    g1.append(gg)\\n\\n    \\n    if _ == 0:\\n        pick.append(gg)\\n    else:\\n        x = tf.stack(pick, axis=1)\\n        aa = tf.where(tf.equal(gg, x))    \\n        pp = tf.cond( tf.equal(tf.shape(aa)[0, :], 0), \\n                            true_fn=lambda: f1(gg), # True\\n                            false_fn=lambda: f2(prop, x)) # False\\n        pick.append(pp)\\n    \\n\\n    \\n    pred = tf.one_hot(pp, depth=data_length, dtype=tf.int32)\\n    label_pool = tf.add(lable_pool, pred)\\n'"
      ]
     },
     "execution_count": 10,
     "metadata": {},
     "output_type": "execute_result"
    }
   ],
   "source": [
    "def f1(pp):\n",
    "    return pp\n",
    "\n",
    "def f2(prop, x): \n",
    "    prop = tf.subtract(prop, tf.reduce_sum(tf.one_hot(x, depth=data_length, dtype=tf.float64), axis=0))#\n",
    "    pp = tf.argmax(prop, axis=0, output_type=tf.int64)\n",
    "    return pp\n",
    "\n",
    "batch_size = 2\n",
    "data_length = 20\n",
    "\n",
    "\n",
    "\n",
    "label_pool = tf.zeros((batch_size, data_length), dtype=tf.int32)  # (batch_size, data_length)\n",
    "\n",
    "g1 = []\n",
    "g2 = []\n",
    "for _ in range(3):\n",
    "    prop = tf.constant(np.random.uniform(low=0., high=1., size=(batch_size, data_length)))\n",
    "    gg = tf.argmax(prop, axis=1)\n",
    "    g1.append(gg)\n",
    "x = tf.stack(g1, axis=1)\n",
    "\n",
    "for i in range(3):\n",
    "    g2.append(gg)\n",
    "y = tf.stack(g2, axis=1)\n",
    "\n",
    "n1 = tf.constant(True,tf.bool)\n",
    "aa = tf.reduce_sum(tf.cast(tf.equal(y, x), dtype=tf.int32), axis=1)\n",
    "\n",
    "pp = []\n",
    "pred = []\n",
    "for i in range(batch_size):\n",
    "    hh = tf.cond( tf.equal(aa[i], 0), \n",
    "                    true_fn=lambda: f1(gg[i]), # True\n",
    "                    false_fn=lambda: f2(prop[i], x[i])) # False\n",
    "    \n",
    "    pred.append(tf.one_hot(hh, depth=data_length, dtype=tf.int32))\n",
    "\n",
    "    \n",
    "label_pool = tf.add(label_pool, tf.stack(pred, axis=0))\n",
    "    \n",
    "    \n",
    "\n",
    "\n",
    "    \n",
    "    \n",
    "\n",
    "\"\"\"\n",
    "pick = []\n",
    "\n",
    "for _ in range(20):\n",
    "    prop = tf.constant(np.random.uniform(batch_size, data_length))\n",
    "    gg = tf.argmax(prop, axis=1, output_type=tf.int32) #(batch_size)\n",
    "    g1.append(gg)\n",
    "\n",
    "    \n",
    "    if _ == 0:\n",
    "        pick.append(gg)\n",
    "    else:\n",
    "        x = tf.stack(pick, axis=1)\n",
    "        aa = tf.where(tf.equal(gg, x))    \n",
    "        pp = tf.cond( tf.equal(tf.shape(aa)[0, :], 0), \n",
    "                            true_fn=lambda: f1(gg), # True\n",
    "                            false_fn=lambda: f2(prop, x)) # False\n",
    "        pick.append(pp)\n",
    "    \n",
    "\n",
    "    \n",
    "    pred = tf.one_hot(pp, depth=data_length, dtype=tf.int32)\n",
    "    label_pool = tf.add(lable_pool, pred)\n",
    "\"\"\""
   ]
  },
  {
   "cell_type": "code",
   "execution_count": 13,
   "metadata": {},
   "outputs": [
    {
     "name": "stdout",
     "output_type": "stream",
     "text": [
      "[[0 0 0 0 0 0 0 0 0 0 0 0 0 0 0 0 0 1 0 0]\n",
      " [0 0 0 0 0 0 1 0 0 0 0 0 0 0 0 0 0 0 0 0]]\n"
     ]
    }
   ],
   "source": [
    "with tf.Session() as sess:\n",
    "    tf.global_variables_initializer()\n",
    "    print(sess.run(label_pool))\n",
    "    #print(sess.run(x), sess.run(tf.shape(x)))\n",
    "    #print(sess.run(y), sess.run(tf.shape(y)))\n",
    "    #print(sess.run(aa), sess.run(tf.shape(aa)[0]))\n",
    "    #print(sess.run(pp))\n"
   ]
  },
  {
   "cell_type": "code",
   "execution_count": null,
   "metadata": {},
   "outputs": [],
   "source": []
  },
  {
   "cell_type": "code",
   "execution_count": null,
   "metadata": {},
   "outputs": [],
   "source": []
  },
  {
   "cell_type": "code",
   "execution_count": null,
   "metadata": {},
   "outputs": [],
   "source": []
  },
  {
   "cell_type": "code",
   "execution_count": null,
   "metadata": {},
   "outputs": [],
   "source": []
  },
  {
   "cell_type": "code",
   "execution_count": null,
   "metadata": {},
   "outputs": [],
   "source": []
  },
  {
   "cell_type": "code",
   "execution_count": null,
   "metadata": {},
   "outputs": [],
   "source": []
  }
 ],
 "metadata": {
  "kernelspec": {
   "display_name": "Python 3",
   "language": "python",
   "name": "python3"
  },
  "language_info": {
   "codemirror_mode": {
    "name": "ipython",
    "version": 3
   },
   "file_extension": ".py",
   "mimetype": "text/x-python",
   "name": "python",
   "nbconvert_exporter": "python",
   "pygments_lexer": "ipython3",
   "version": "3.6.5"
  }
 },
 "nbformat": 4,
 "nbformat_minor": 2
}
