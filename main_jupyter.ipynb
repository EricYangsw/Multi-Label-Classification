{
 "cells": [
  {
   "cell_type": "code",
   "execution_count": 1,
   "metadata": {},
   "outputs": [
    {
     "name": "stderr",
     "output_type": "stream",
     "text": [
      "C:\\Users\\ericmlyang\\AppData\\Local\\Continuum\\anaconda3\\envs\\tf_cpu\\lib\\site-packages\\h5py\\__init__.py:36: FutureWarning: Conversion of the second argument of issubdtype from `float` to `np.floating` is deprecated. In future, it will be treated as `np.float64 == np.dtype(float).type`.\n",
      "  from ._conv import register_converters as _register_converters\n"
     ]
    }
   ],
   "source": [
    "#!/usr/bin/python\n",
    "import tensorflow as tf\n",
    "\n",
    "from config import Config\n",
    "from model import Multi_Label_Class\n",
    "from dataset import DataSet"
   ]
  },
  {
   "cell_type": "code",
   "execution_count": null,
   "metadata": {},
   "outputs": [
    {
     "name": "stdout",
     "output_type": "stream",
     "text": [
      "Train....\n",
      "Building CNN model (vgg16)..........\n",
      "Building the RNN Model..........\n",
      "RNN built...........................\n",
      "Load CNN is True........\n",
      "Loading the CNN from ./pretrain_cnn/vgg16_no_fc.npy...\n"
     ]
    },
    {
     "name": "stderr",
     "output_type": "stream",
     "text": [
      "100%|██████████████████████████████████████████████████████████████████████████████████| 13/13 [02:36<00:00, 11.93s/it]\n"
     ]
    },
    {
     "name": "stdout",
     "output_type": "stream",
     "text": [
      "25 tensors loaded.\n",
      "tf.get_default_graph().finalize()\n",
      "Training the model...........\n"
     ]
    }
   ],
   "source": [
    "FLAGS = tf.app.flags.FLAGS # transfer parameters of \"tf.app.run( )\" needed\n",
    "# Use ==================================\n",
    "tf.flags.DEFINE_string('phase', 'train',\n",
    "                       'The phase can be train, eval or test')\n",
    "\n",
    "tf.flags.DEFINE_boolean('load_cnn', True,\n",
    "                        'Turn on to load a pretrained CNN model')\n",
    "tf.flags.DEFINE_string('cnn_model_file', './pretrain_cnn/vgg16_no_fc.npy',\n",
    "                       'The file containing a pretrained CNN model')\n",
    "\n",
    "tf.flags.DEFINE_boolean('train_cnn', False,\n",
    "                        'Turn on to train both CNN and RNN. \\\n",
    "                         Otherwise, only RNN is trained')\n",
    "\n",
    "# =======================================\n",
    "tf.flags.DEFINE_boolean('load', False,\n",
    "                        'Turn on to load a pretrained model from either \\\n",
    "                        the latest checkpoint or a specified file')\n",
    "tf.flags.DEFINE_string('model_file', None,\n",
    "                       'If sepcified, load a pretrained model from this file')\n",
    "\n",
    "tf.flags.DEFINE_integer('beam_size', 3,\n",
    "                        'The size of beam search for caption generation')\n",
    "\n",
    "\n",
    "def main(argv):\n",
    "    config = Config()\n",
    "    config.phase = FLAGS.phase\n",
    "    config.train_cnn = FLAGS.train_cnn\n",
    "    config.load_cnn = FLAGS.load_cnn\n",
    "    # config.beam_size = FLAGS.beam_size\n",
    "\n",
    "\n",
    "    with tf.Session() as sess:\n",
    "        if FLAGS.phase == 'train':\n",
    "            print('Train....')\n",
    "            # training phase\n",
    "            model = Multi_Label_Class(config) # Already building model?\n",
    "            sess.run(tf.global_variables_initializer())\n",
    "            if FLAGS.load_cnn:\n",
    "                print('Load CNN is True........')\n",
    "                model.load_cnn(sess, FLAGS.cnn_model_file)\n",
    "            print('tf.get_default_graph().finalize()')\n",
    "            tf.get_default_graph().finalize() # Returns the default graph for the current thread.\n",
    "            model.train(sess) # Training model\n",
    "            \n",
    "'''\n",
    "        elif FLAGS.phase == 'eval':\n",
    "            # evaluation phase\n",
    "            model = Multi_Label_Class(config)\n",
    "            model.load(sess, FLAGS.model_file)\n",
    "            tf.get_default_graph().finalize()\n",
    "            model.eval(sess, coco, data, vocabulary)\n",
    "\n",
    "        else:\n",
    "            # testing phase\n",
    "            data, vocabulary =  DataSet.test_data(config)\n",
    "            model = Multi_Label_Class(config)\n",
    "            model.load(sess, FLAGS.model_file)\n",
    "            tf.get_default_graph().finalize()\n",
    "            model.test(sess, data, vocabulary)\n",
    "'''\n",
    "if __name__ == '__main__':\n",
    "    tf.app.run() \n",
    "    #Runs the program with an optional 'main' function and 'argv' list.\n",
    "    # tf.app.run(main=None, argv=None)"
   ]
  },
  {
   "cell_type": "code",
   "execution_count": null,
   "metadata": {},
   "outputs": [],
   "source": []
  },
  {
   "cell_type": "code",
   "execution_count": null,
   "metadata": {},
   "outputs": [],
   "source": []
  },
  {
   "cell_type": "code",
   "execution_count": null,
   "metadata": {},
   "outputs": [],
   "source": []
  },
  {
   "cell_type": "code",
   "execution_count": null,
   "metadata": {},
   "outputs": [],
   "source": []
  }
 ],
 "metadata": {
  "kernelspec": {
   "display_name": "Python 3",
   "language": "python",
   "name": "python3"
  },
  "language_info": {
   "codemirror_mode": {
    "name": "ipython",
    "version": 3
   },
   "file_extension": ".py",
   "mimetype": "text/x-python",
   "name": "python",
   "nbconvert_exporter": "python",
   "pygments_lexer": "ipython3",
   "version": "3.6.5"
  }
 },
 "nbformat": 4,
 "nbformat_minor": 2
}
