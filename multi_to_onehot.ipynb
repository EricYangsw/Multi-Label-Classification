{
 "cells": [
  {
   "cell_type": "code",
   "execution_count": 1,
   "metadata": {},
   "outputs": [],
   "source": [
    "import numpy as np\n",
    "import pandas as pd"
   ]
  },
  {
   "cell_type": "code",
   "execution_count": 74,
   "metadata": {},
   "outputs": [],
   "source": [
    "def produce_multi_lable(size=(10)):\n",
    "    multi_label = np.random.randint(0, high=2, size=size)\n",
    "    return multi_label\n",
    "\n",
    "\n",
    "def label_number_dict(data):\n",
    "    number_dict = {}\n",
    "    number_label = []\n",
    "    \n",
    "    tuple_data = list(map(tuple, data))\n",
    "    \n",
    "    no = 0\n",
    "    for raw in tuple_data:\n",
    "        if number_dict.get(raw, 'no') == 'no':\n",
    "            number_dict[raw] = no\n",
    "            no += 1\n",
    "            number_label.append(no)\n",
    "        else:\n",
    "            number_label.append(number_dict[raw])\n",
    "            \n",
    "    print(\"total label : {}\".format(no+1))\n",
    "    return number_dict, np.array(number_label), no"
   ]
  },
  {
   "cell_type": "code",
   "execution_count": 75,
   "metadata": {},
   "outputs": [
    {
     "name": "stdout",
     "output_type": "stream",
     "text": [
      "total label : 96\n"
     ]
    }
   ],
   "source": [
    "multi_label = produce_multi_lable(size=(100, 10))\n",
    "number_dict, number_label, max_no  = label_number_dict(multi_label)"
   ]
  },
  {
   "cell_type": "code",
   "execution_count": 78,
   "metadata": {},
   "outputs": [],
   "source": [
    "one_hot_label = np.zeros((multi_label.shape[0] ,total_no))\n",
    "one_hot_label[np.arange(multi_label.shape[0]), number_label] = 1"
   ]
  },
  {
   "cell_type": "code",
   "execution_count": null,
   "metadata": {},
   "outputs": [],
   "source": []
  },
  {
   "cell_type": "code",
   "execution_count": null,
   "metadata": {},
   "outputs": [],
   "source": []
  },
  {
   "cell_type": "code",
   "execution_count": null,
   "metadata": {},
   "outputs": [],
   "source": []
  },
  {
   "cell_type": "code",
   "execution_count": null,
   "metadata": {},
   "outputs": [],
   "source": []
  }
 ],
 "metadata": {
  "kernelspec": {
   "display_name": "Python 3",
   "language": "python",
   "name": "python3"
  },
  "language_info": {
   "codemirror_mode": {
    "name": "ipython",
    "version": 3
   },
   "file_extension": ".py",
   "mimetype": "text/x-python",
   "name": "python",
   "nbconvert_exporter": "python",
   "pygments_lexer": "ipython3",
   "version": "3.6.4"
  }
 },
 "nbformat": 4,
 "nbformat_minor": 2
}
