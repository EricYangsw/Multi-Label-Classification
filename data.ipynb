{
 "cells": [
  {
   "cell_type": "code",
   "execution_count": 1,
   "metadata": {},
   "outputs": [],
   "source": [
    "import numpy as np \n",
    "import pandas as pd"
   ]
  },
  {
   "cell_type": "code",
   "execution_count": 73,
   "metadata": {},
   "outputs": [],
   "source": [
    "data = pd.read_csv('./data/2018-09-18_400MB.csv', chunksize=1000)"
   ]
  },
  {
   "cell_type": "code",
   "execution_count": 93,
   "metadata": {},
   "outputs": [
    {
     "name": "stdout",
     "output_type": "stream",
     "text": [
      "2\n",
      "4\n",
      "6\n",
      "8\n",
      "10\n",
      "12\n"
     ]
    }
   ],
   "source": [
    "col_sum = np.zeros((16384))\n",
    "row_sum = []\n",
    "i = 0\n",
    "for chunk in data:\n",
    "    del chunk[chunk.columns[0]]\n",
    "    chunk = chunk.fillna(0)\n",
    "    col_sum += np.sum(chunk.values, axis=0)\n",
    "    row_sum.append(np.sum(chunk.values, axis=1))\n",
    "    i += 1\n",
    "    if i % 2 == 0:\n",
    "        print(i)\n",
    "        \n",
    "        \n",
    "        \n",
    "zero_index = np.where(col_sum<=0)\n",
    "delete_column_name = list(chunk.columns[zero_index[0]])\n",
    "\n",
    "\n",
    "\n",
    "\n",
    "data = pd.read_csv('./data/2018-09-18_400MB.csv', chunksize=1000)\n",
    "i = 0\n",
    "for chunk in data:\n",
    "    del chunk[chunk.columns[0]]\n",
    "    for col in delete_column_name :\n",
    "        del chunk[col]\n",
    "    print(i, ': already deleted')\n",
    "    x_data = pd.DataFrame()\n",
    "    y_data = pd.DataFrame()\n",
    "    for col_name in chunk.columns:\n",
    "        if 'X' in col_name:\n",
    "            x_data[col_name] = chunk[col_name]\n",
    "        else:\n",
    "            y_data[col_name] = chunk[col_name]\n",
    "    print('deviding to X & Y dataframe')\n",
    "    x_data.to_csv('./data/x_data_'+str(i)+'.csv')\n",
    "    y_data.to_csv('./data/y_data_'+str(i)+'.csv')\n",
    "    i+=1"
   ]
  },
  {
   "cell_type": "code",
   "execution_count": 98,
   "metadata": {},
   "outputs": [
    {
     "name": "stdout",
     "output_type": "stream",
     "text": [
      "214 : 182\n",
      "215 : 179\n",
      "215 : 180\n",
      "214 : 179\n",
      "213 : 180\n",
      "212 : 179\n",
      "212 : 179\n",
      "213 : 179\n",
      "213 : 181\n",
      "213 : 179\n",
      "214 : 179\n",
      "205 : 191\n",
      "215 : 178\n"
     ]
    }
   ],
   "source": [
    "for row in row_sum:\n",
    "    print(np.max(row), ':', np.min(row))"
   ]
  },
  {
   "cell_type": "code",
   "execution_count": null,
   "metadata": {},
   "outputs": [],
   "source": []
  },
  {
   "cell_type": "code",
   "execution_count": null,
   "metadata": {},
   "outputs": [],
   "source": []
  },
  {
   "cell_type": "code",
   "execution_count": null,
   "metadata": {},
   "outputs": [],
   "source": []
  },
  {
   "cell_type": "code",
   "execution_count": 4,
   "metadata": {},
   "outputs": [
    {
     "name": "stdout",
     "output_type": "stream",
     "text": [
      "input shape:(10000, 200) , target shape:(10000, 200) \n"
     ]
    }
   ],
   "source": [
    "# Generating data\n",
    "\n",
    "def generating_data(input_len=41, output_len=71):\n",
    "    x = np.random.randint(2, size=(10000, 200))\n",
    "    y = np.random.randint(2, size=(10000, 200))\n",
    "    return x, y\n",
    "x_input, y_label = generating_data()\n",
    "print(\"input shape:{} , target shape:{} \".format(x_input.shape, y_label.shape))"
   ]
  },
  {
   "cell_type": "code",
   "execution_count": 6,
   "metadata": {},
   "outputs": [],
   "source": [
    "np.savetxt('x_input.csv', x_input, delimiter = ',')"
   ]
  },
  {
   "cell_type": "code",
   "execution_count": 7,
   "metadata": {},
   "outputs": [],
   "source": [
    "np.savetxt('y_label.csv', y_label, delimiter = ',')"
   ]
  },
  {
   "cell_type": "code",
   "execution_count": null,
   "metadata": {},
   "outputs": [],
   "source": []
  },
  {
   "cell_type": "code",
   "execution_count": null,
   "metadata": {},
   "outputs": [],
   "source": []
  },
  {
   "cell_type": "code",
   "execution_count": null,
   "metadata": {},
   "outputs": [],
   "source": []
  }
 ],
 "metadata": {
  "kernelspec": {
   "display_name": "Python 3",
   "language": "python",
   "name": "python3"
  },
  "language_info": {
   "codemirror_mode": {
    "name": "ipython",
    "version": 3
   },
   "file_extension": ".py",
   "mimetype": "text/x-python",
   "name": "python",
   "nbconvert_exporter": "python",
   "pygments_lexer": "ipython3",
   "version": "3.6.4"
  }
 },
 "nbformat": 4,
 "nbformat_minor": 2
}
